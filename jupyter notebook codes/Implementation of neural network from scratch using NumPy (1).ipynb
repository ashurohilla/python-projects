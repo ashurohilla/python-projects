{
 "cells": [
  {
   "cell_type": "code",
   "execution_count": 1,
   "id": "d54aab10",
   "metadata": {},
   "outputs": [],
   "source": [
    "# ....Step 1 : Creating the data set using numpy array of 0s and 1s. \n",
    "#As the image is a collection of pixel values in matrix, we will create those matrix of pixel for A, B, C \n",
    "\n",
    "#using 0 and 1 Creating data set\n",
    "\n",
    "# A\n",
    "a =[0, 0, 1, 1, 0, 0,\n",
    "0, 1, 0, 0, 1, 0,\n",
    "1, 1, 1, 1, 1, 1,\n",
    "1, 0, 0, 0, 0, 1,\n",
    "1, 0, 0, 0, 0, 1]\n",
    "# B\n",
    "b =[0, 1, 1, 1, 1, 0,\n",
    "0, 1, 0, 0, 1, 0,\n",
    "0, 1, 1, 1, 1, 0,\n",
    "0, 1, 0, 0, 1, 0,\n",
    "0, 1, 1, 1, 1, 0]\n",
    "# C\n",
    "c =[0, 1, 1, 1, 1, 0,\n",
    "0, 1, 0, 0, 0, 0,\n",
    "0, 1, 0, 0, 0, 0,\n",
    "0, 1, 0, 0, 0, 0,\n",
    "0, 1, 1, 1, 1, 0]\n",
    "\n",
    "# Creating labels\n",
    "y =[[1, 0, 0],\n",
    "[0, 1, 0],\n",
    "[0, 0, 1]]\n"
   ]
  },
  {
   "cell_type": "code",
   "execution_count": 2,
   "id": "681b1bed",
   "metadata": {},
   "outputs": [
    {
     "data": {
      "image/png": "[encoded data removed]",
      "text/plain": [
       "<Figure size 432x288 with 1 Axes>"
      ]
     },
     "metadata": {
      "needs_background": "light"
     },
     "output_type": "display_data"
    },
    {
     "data": {
      "image/png": "[encoded data removed]",
      "text/plain": [
       "<Figure size 432x288 with 1 Axes>"
      ]
     },
     "metadata": {
      "needs_background": "light"
     },
     "output_type": "display_data"
    },
    {
     "data": {
      "image/png": "[encoded data removed]",
      "text/plain": [
       "<Figure size 432x288 with 1 Axes>"
      ]
     },
     "metadata": {
      "needs_background": "light"
     },
     "output_type": "display_data"
    }
   ],
   "source": [
    "#Step 2 : Visualization of data set \"a\"\n",
    "import numpy as np\n",
    "import matplotlib.pyplot as plt\n",
    "# visualizing the data, ploting A.\n",
    "plt.imshow(np.array(a).reshape(5, 6))\n",
    "plt.show()\n",
    "\n",
    "\n",
    "#Step 2 : Visualization of data set \"b\" \n",
    "import numpy as np\n",
    "import matplotlib.pyplot as plt\n",
    "# visualizing the data, ploting A.\n",
    "plt.imshow(np.array(b).reshape(5, 6))\n",
    "plt.show()\n",
    "\n",
    "\n",
    "\n",
    "#Step 2 : Visualization of data set \"c\"\n",
    "import numpy as np\n",
    "import matplotlib.pyplot as plt\n",
    "# visualizing the data, ploting A.\n",
    "plt.imshow(np.array(c).reshape(5, 6))\n",
    "plt.show()\n"
   ]
  },
  {
   "cell_type": "code",
   "execution_count": 3,
   "id": "81440c9a",
   "metadata": {},
   "outputs": [
    {
     "name": "stdout",
     "output_type": "stream",
     "text": [
      "[array([[0, 0, 1, 1, 0, 0, 0, 1, 0, 0, 1, 0, 1, 1, 1, 1, 1, 1, 1, 0, 0, 0,\n",
      "        0, 1, 1, 0, 0, 0, 0, 1]]), array([[0, 1, 1, 1, 1, 0, 0, 1, 0, 0, 1, 0, 0, 1, 1, 1, 1, 0, 0, 1, 0, 0,\n",
      "        1, 0, 0, 1, 1, 1, 1, 0]]), array([[0, 1, 1, 1, 1, 0, 0, 1, 0, 0, 0, 0, 0, 1, 0, 0, 0, 0, 0, 1, 0, 0,\n",
      "        0, 0, 0, 1, 1, 1, 1, 0]])] \n",
      "\n",
      " [[1 0 0]\n",
      " [0 1 0]\n",
      " [0 0 1]]\n"
     ]
    }
   ],
   "source": [
    "#Step 3 :As the data set is in the form of list we will convert it into numpy array. \n",
    "# converting data and labels into numpy array\n",
    "\n",
    "\"\"\"\n",
    "Convert the matrix of 0 and 1 into one hot vector\n",
    "so that we can directly feed it to the neural network,\n",
    "these vectors are then stored in a list x.\n",
    "\"\"\"\n",
    "\n",
    "x =[np.array(a).reshape(1, 30), np.array(b).reshape(1, 30),\n",
    "\t\t\t\t\t\t\t\tnp.array(c).reshape(1, 30)]\n",
    "\n",
    "\n",
    "# Labels are also converted into NumPy array\n",
    "y = np.array(y)\n",
    "\n",
    "\n",
    "print(x, \"\\n\\n\", y)\n"
   ]
  },
  {
   "cell_type": "code",
   "execution_count": 4,
   "id": "60b508ba",
   "metadata": {},
   "outputs": [],
   "source": [
    "#Step 4 : Defining the architecture or structure of the deep neural network. This includes deciding the number of layers and the number of nodes in each layer. Our neural network is going to have the following structure. \n",
    "\n",
    "#1st layer: Input layer(1, 30)\n",
    "#2nd layer: Hidden layer (1, 5)\n",
    "#3rd layer: Output layer(3, 3)\n",
    " # activation function\n",
    "    \n",
    "# Step 5: Declaring and defining all the function to build deep neural network. \n",
    "\n",
    "def sigmoid(x):\n",
    "\treturn(1/(1 + np.exp(-x)))\n",
    "\n",
    "# Creating the Feed forward neural network\n",
    "# 1 Input layer(1, 30)\n",
    "# 1 hidden layer (1, 5)\n",
    "# 1 output layer(3, 3)\n",
    "\n",
    "def f_forward(x, w1, w2):\n",
    "\t\n",
    "    # hidden\n",
    "\tz1 = x.dot(w1)# input from layer 1\n",
    "\ta1 = sigmoid(z1)# out put of layer 2\n",
    "\t\n",
    "\t# Output layer\n",
    "\tz2 = a1.dot(w2)# input of out layer\n",
    "\ta2 = sigmoid(z2)# output of out layer\n",
    "\treturn(a2)\n",
    "\n",
    "# initializing the weights randomly\n",
    "def generate_wt(x, y):\n",
    "\tl =[]\n",
    "\tfor i in range(x * y):\n",
    "\t\tl.append(np.random.randn())\n",
    "\treturn(np.array(l).reshape(x, y))\n",
    "\t\n",
    "# for loss we will be using mean square error(MSE)\n",
    "def loss(out, Y):\n",
    "\ts =(np.square(out-Y))\n",
    "\ts = np.sum(s)/len(y)\n",
    "\treturn(s)\n",
    "\n",
    "# Back propagation of error\n",
    "def back_prop(x, y, w1, w2, alpha):\n",
    "\t\n",
    "\t# hidden layer\n",
    "\tz1 = x.dot(w1)# input from layer 1\n",
    "\ta1 = sigmoid(z1)# output of layer 2\n",
    "\t\n",
    "\t# Output layer\n",
    "\tz2 = a1.dot(w2)# input of out layer\n",
    "\ta2 = sigmoid(z2)# output of out layer\n",
    "\t# error in output layer\n",
    "\td2 =(a2-y)\n",
    "\td1 = np.multiply((w2.dot((d2.transpose()))).transpose(),\n",
    "\t\t\t\t\t\t\t\t(np.multiply(a1, 1-a1)))\n",
    "\n",
    "\t# Gradient for w1 and w2\n",
    "\tw1_adj = x.transpose().dot(d1)\n",
    "\tw2_adj = a1.transpose().dot(d2)\n",
    "\t\n",
    "\t# Updating parameters\n",
    "\tw1 = w1-(alpha*(w1_adj))\n",
    "\tw2 = w2-(alpha*(w2_adj))\n",
    "\t\n",
    "\treturn(w1, w2)\n",
    "\n",
    "def train(x, Y, w1, w2, alpha = 0.01, epoch = 10):\n",
    "\tacc =[]\n",
    "\tlosss =[]\n",
    "\tfor j in range(epoch):\n",
    "\t\tl =[]\n",
    "\t\tfor i in range(len(x)):\n",
    "\t\t\tout = f_forward(x[i], w1, w2)\n",
    "\t\t\tl.append((loss(out, Y[i])))\n",
    "\t\t\tw1, w2 = back_prop(x[i], y[i], w1, w2, alpha)\n",
    "\t\tprint(\"epochs:\", j + 1, \"======== acc:\", (1-(sum(l)/len(x)))*100)\n",
    "\t\tacc.append((1-(sum(l)/len(x)))*100)\n",
    "\t\tlosss.append(sum(l)/len(x))\n",
    "\treturn(acc, losss, w1, w2)\n",
    "\n",
    "def predict(x, w1, w2):\n",
    "\tOut = f_forward(x, w1, w2)\n",
    "\tmaxm = 0\n",
    "\tk = 0\n",
    "\tfor i in range(len(Out[0])):\n",
    "\t\tif(maxm<Out[0][i]):\n",
    "\t\t\tmaxm = Out[0][i]\n",
    "\t\t\tk = i\n",
    "\tif(k == 1):\n",
    "\t\tprint(\"Image is of letter A.\")\n",
    "\telif(k == 0):\n",
    "\t\tprint(\"Image is of letter B.\")\n",
    "\telse:\n",
    "\t\tprint(\"Image is of letter C.\")\n",
    "\tplt.imshow(x.reshape(5, 6))\n",
    "\tplt.show()"
   ]
  },
  {
   "cell_type": "code",
   "execution_count": 5,
   "id": "a1ec8daa",
   "metadata": {},
   "outputs": [
    {
     "name": "stdout",
     "output_type": "stream",
     "text": [
      "[[-0.89268439  0.22706532 -1.99231905 -1.88487097 -1.18356473]\n",
      " [ 1.20332651  0.30128497  1.53551329 -2.56087519 -2.26152229]\n",
      " [-0.59251429  0.32692581 -0.36311658 -0.71484353  0.00619349]\n",
      " [-0.30728634  0.4576238   0.13671359  0.77443934  0.76328908]\n",
      " [-0.01531182  0.00901068  1.67574761 -0.35333815  0.66168986]\n",
      " [ 0.29719676  0.7754721  -1.06792151 -1.64895026  0.68365414]\n",
      " [ 0.79583107  0.05753517  0.27797751 -1.87481882 -1.48512323]\n",
      " [ 0.47347411 -2.40704616 -2.02235891 -0.94192941 -0.47375398]\n",
      " [ 0.83897475  1.01418671 -0.92369679 -0.93375591  0.19010555]\n",
      " [-0.49069822 -0.05157335  0.63924493 -0.56512614  0.94362768]\n",
      " [-0.41952852  0.22862696  1.50615    -0.69677362 -1.28840092]\n",
      " [ 0.76343379  0.25423316 -0.19641219 -0.92975193  1.15509608]\n",
      " [ 0.47756609  1.99151559  1.35577717 -1.29619505 -1.68466534]\n",
      " [-0.56480926  0.7186752  -1.66267756  0.73222453 -1.85497485]\n",
      " [-0.64944486  1.84029     0.72670045 -0.73289213 -1.37589698]\n",
      " [-0.00648643 -0.44163033 -0.41546537 -0.41510041  0.7860321 ]\n",
      " [-1.19270215 -0.54493232 -0.01143    -0.12162262  0.88323301]\n",
      " [-1.8744446  -0.17951325  0.89536077  1.06008186  0.78677512]\n",
      " [ 0.90597523 -0.90540501  0.06867287  0.18863653 -1.35906475]\n",
      " [ 0.8209926  -0.2467342   1.00223054  1.50117267  0.61518948]\n",
      " [-1.58874469 -1.68128787  0.33307495 -1.31111966  0.19304287]\n",
      " [-1.06560569 -0.30152997 -1.60817162 -0.74400681 -0.34261385]\n",
      " [-1.18843395  0.7482652  -0.82830719 -0.50897512  0.21356634]\n",
      " [-0.24795785 -1.68825582 -0.28904366  1.25185724  0.92485936]\n",
      " [-0.45890566 -2.01659995  0.47048236 -0.53107972 -0.39480277]\n",
      " [ 0.59348245 -0.41739536 -0.89743768  0.07722056 -0.63352879]\n",
      " [ 0.47689047 -1.78931565 -1.19571909 -0.52409073 -0.41676714]\n",
      " [ 0.48771005 -0.37008784 -1.31983908 -1.4732057  -1.36783117]\n",
      " [-0.98620565  1.28101673 -1.74885674 -0.14657661  0.71717826]\n",
      " [ 0.23321424  0.22514816 -0.47462521  0.1350441  -0.3148937 ]] \n",
      "\n",
      " [[-1.04579757 -0.37878457 -0.07885739]\n",
      " [-1.00778862 -0.19958775 -1.18635804]\n",
      " [-0.15072513 -0.26302499  0.8244359 ]\n",
      " [-0.51503522 -0.36818284  0.02722784]\n",
      " [ 0.07888287 -2.013599   -1.03650219]]\n"
     ]
    }
   ],
   "source": [
    "#Step 6: Initializing the weights, as the neural network is having 3 layers, \n",
    "#so there will be 2 weight matrix associate with it.\n",
    "#The size of each matrix depends on the number of nodes in two connecting layers\n",
    "w1 = generate_wt(30, 5)\n",
    "w2 = generate_wt(5, 3)\n",
    "print(w1, \"\\n\\n\", w2)\n"
   ]
  },
  {
   "cell_type": "code",
   "execution_count": 6,
   "id": "6a737618",
   "metadata": {},
   "outputs": [
    {
     "name": "stdout",
     "output_type": "stream",
     "text": [
      "epochs: 1 ======== acc: 78.29408283704298\n",
      "epochs: 2 ======== acc: 78.90935824275105\n",
      "epochs: 3 ======== acc: 79.45952155507601\n",
      "epochs: 4 ======== acc: 79.94568626296535\n",
      "epochs: 5 ======== acc: 80.37446108819157\n",
      "epochs: 6 ======== acc: 80.75540715993421\n",
      "epochs: 7 ======== acc: 81.09836071046081\n",
      "epochs: 8 ======== acc: 81.41193076488565\n",
      "epochs: 9 ======== acc: 81.70306331228787\n",
      "epochs: 10 ======== acc: 81.9771512022256\n",
      "epochs: 11 ======== acc: 82.23831860979075\n",
      "epochs: 12 ======== acc: 82.48971117638271\n",
      "epochs: 13 ======== acc: 82.73373850278719\n",
      "epochs: 14 ======== acc: 82.97226317466043\n",
      "epochs: 15 ======== acc: 83.20674504806395\n",
      "epochs: 16 ======== acc: 83.43835155511836\n",
      "epochs: 17 ======== acc: 83.66804312972029\n",
      "epochs: 18 ======== acc: 83.89664065611353\n",
      "epochs: 19 ======== acc: 84.12488000046056\n",
      "epochs: 20 ======== acc: 84.35345731303478\n",
      "epochs: 21 ======== acc: 84.58306778721015\n",
      "epochs: 22 ======== acc: 84.81443979915741\n",
      "epochs: 23 ======== acc: 85.04836570742081\n",
      "epochs: 24 ======== acc: 85.28572995218946\n",
      "epochs: 25 ======== acc: 85.52753434715792\n",
      "epochs: 26 ======== acc: 85.77491948204182\n",
      "epochs: 27 ======== acc: 86.0291798293214\n",
      "epochs: 28 ======== acc: 86.29176838325778\n",
      "epochs: 29 ======== acc: 86.56428446987867\n",
      "epochs: 30 ======== acc: 86.84843602746743\n",
      "epochs: 31 ======== acc: 87.14596592098191\n",
      "epochs: 32 ======== acc: 87.45853217629602\n",
      "epochs: 33 ======== acc: 87.78753654892755\n",
      "epochs: 34 ======== acc: 88.13390673207341\n",
      "epochs: 35 ======== acc: 88.49785514898707\n",
      "epochs: 36 ======== acc: 88.87865778435004\n",
      "epochs: 37 ======== acc: 89.27451056183129\n",
      "epochs: 38 ======== acc: 89.68251691968126\n",
      "epochs: 39 ======== acc: 90.09883323861466\n",
      "epochs: 40 ======== acc: 90.51895681799235\n",
      "epochs: 41 ======== acc: 90.93810283096124\n",
      "epochs: 42 ======== acc: 91.35159832238917\n",
      "epochs: 43 ======== acc: 91.75522626874553\n",
      "epochs: 44 ======== acc: 92.14547349077142\n",
      "epochs: 45 ======== acc: 92.51966285877647\n",
      "epochs: 46 ======== acc: 92.87597519816306\n",
      "epochs: 47 ======== acc: 93.21338444914882\n",
      "epochs: 48 ======== acc: 93.53153813908544\n",
      "epochs: 49 ======== acc: 93.83061441113156\n",
      "epochs: 50 ======== acc: 94.1111798549948\n",
      "epochs: 51 ======== acc: 94.37406325307035\n",
      "epochs: 52 ======== acc: 94.62025217067104\n",
      "epochs: 53 ======== acc: 94.85081350138586\n",
      "epochs: 54 ======== acc: 95.06683572077006\n",
      "epochs: 55 ======== acc: 95.26938914023076\n",
      "epochs: 56 ======== acc: 95.45950019199914\n",
      "epochs: 57 ======== acc: 95.63813614497326\n",
      "epochs: 58 ======== acc: 95.80619727030182\n",
      "epochs: 59 ======== acc: 95.96451412923908\n",
      "epochs: 60 ======== acc: 96.11384824093273\n",
      "epochs: 61 ======== acc: 96.25489486792907\n",
      "epochs: 62 ======== acc: 96.38828703037254\n",
      "epochs: 63 ======== acc: 96.51460013935169\n",
      "epochs: 64 ======== acc: 96.63435684340374\n",
      "epochs: 65 ======== acc: 96.74803182716862\n",
      "epochs: 66 ======== acc: 96.85605640240689\n",
      "epochs: 67 ======== acc: 96.95882280090972\n",
      "epochs: 68 ======== acc: 97.05668812529595\n",
      "epochs: 69 ======== acc: 97.14997794405434\n",
      "epochs: 70 ======== acc: 97.23898953636036\n",
      "epochs: 71 ======== acc: 97.32399480370297\n",
      "epochs: 72 ======== acc: 97.40524287169609\n",
      "epochs: 73 ======== acc: 97.48296240837043\n",
      "epochs: 74 ======== acc: 97.55736368596033\n",
      "epochs: 75 ======== acc: 97.62864041254868\n",
      "epochs: 76 ======== acc: 97.69697135847441\n",
      "epochs: 77 ======== acc: 97.76252180052064\n",
      "epochs: 78 ======== acc: 97.82544480483034\n",
      "epochs: 79 ======== acc: 97.88588236740125\n",
      "epochs: 80 ======== acc: 97.94396642898629\n",
      "epochs: 81 ======== acc: 97.9998197793267\n",
      "epochs: 82 ======== acc: 98.05355686390158\n",
      "epochs: 83 ======== acc: 98.10528450479717\n",
      "epochs: 84 ======== acc: 98.1551025458863\n",
      "epochs: 85 ======== acc: 98.20310443125064\n",
      "epochs: 86 ======== acc: 98.2493777246698\n",
      "epochs: 87 ======== acc: 98.2940045770247\n",
      "epochs: 88 ======== acc: 98.33706214760873\n",
      "epochs: 89 ======== acc: 98.3786229845931\n",
      "epochs: 90 ======== acc: 98.41875536924134\n",
      "epochs: 91 ======== acc: 98.45752362790157\n",
      "epochs: 92 ======== acc: 98.49498841531081\n",
      "epochs: 93 ======== acc: 98.53120697231782\n",
      "epochs: 94 ======== acc: 98.56623336075756\n",
      "epochs: 95 ======== acc: 98.60011867788762\n",
      "epochs: 96 ======== acc: 98.63291125251477\n",
      "epochs: 97 ======== acc: 98.664656824697\n",
      "epochs: 98 ======== acc: 98.69539871069271\n",
      "epochs: 99 ======== acc: 98.72517795464556\n",
      "epochs: 100 ======== acc: 98.7540334683318\n"
     ]
    }
   ],
   "source": [
    "#Step 7 : Training the model.\n",
    "\"\"\"The arguments of train function are data set list x,\n",
    "correct labels y, weights w1, w2, learning rate = 0.1,\n",
    "no of epochs or iteration.The function will return the\n",
    "matrix of accuracy and loss and also the matrix of\n",
    "trained weights w1, w2\"\"\"\n",
    "\n",
    "acc, losss, w1, w2 = train(x, y, w1, w2, 0.1, 100)\n"
   ]
  },
  {
   "cell_type": "code",
   "execution_count": 7,
   "id": "b5ab236a",
   "metadata": {},
   "outputs": [
    {
     "data": {
      "image/png": "[encoded data removed]",
      "text/plain": [
       "<Figure size 432x288 with 1 Axes>"
      ]
     },
     "metadata": {
      "needs_background": "light"
     },
     "output_type": "display_data"
    },
    {
     "data": {
      "image/png": "[encoded data removed]",
      "text/plain": [
       "<Figure size 432x288 with 1 Axes>"
      ]
     },
     "metadata": {
      "needs_background": "light"
     },
     "output_type": "display_data"
    }
   ],
   "source": [
    "#Step 8 : Plotting the graphs of loss and accuracy with respect to number of epochs(Iteration). \n",
    "import matplotlib.pyplot as plt1\n",
    "\n",
    "# ploting accuracy\n",
    "plt1.plot(acc)\n",
    "plt1.ylabel('Accuracy')\n",
    "plt1.xlabel(\"Epochs:\")\n",
    "plt1.show()\n",
    "\n",
    "# plotting Loss\n",
    "plt1.plot(losss)\n",
    "plt1.ylabel('Loss')\n",
    "plt1.xlabel(\"Epochs:\")\n",
    "plt1.show()\n"
   ]
  },
  {
   "cell_type": "code",
   "execution_count": 8,
   "id": "4270dacc",
   "metadata": {},
   "outputs": [
    {
     "name": "stdout",
     "output_type": "stream",
     "text": [
      "[[-0.89268439  0.22706532 -1.99231905 -1.88487097 -1.18356473]\n",
      " [ 1.36598722  0.35836362  1.41729987 -2.58207664 -2.29284663]\n",
      " [-0.48420107  0.20444202 -0.18513468 -0.40605955  0.20161224]\n",
      " [-0.19897312  0.33514001  0.31469549  1.08322332  0.95870783]\n",
      " [ 0.14734889  0.06608933  1.55753419 -0.37453959  0.63036553]\n",
      " [ 0.29719676  0.7754721  -1.06792151 -1.64895026  0.68365414]\n",
      " [ 0.79583107  0.05753517  0.27797751 -1.87481882 -1.48512323]\n",
      " [ 0.58178734 -2.52952995 -1.84437701 -0.63314543 -0.27833523]\n",
      " [ 0.83897475  1.01418671 -0.92369679 -0.93375591  0.19010555]\n",
      " [-0.49069822 -0.05157335  0.63924493 -0.56512614  0.94362768]\n",
      " [-0.82462533  0.84826681  1.67361331 -0.4019205  -1.12220431]\n",
      " [ 0.76343379  0.25423316 -0.19641219 -0.92975193  1.15509608]\n",
      " [ 0.4232186   1.81195315  1.65197249 -0.96620962 -1.45792225]\n",
      " [-0.45649604  0.59619141 -1.48469566  1.04100851 -1.6595561 ]\n",
      " [-1.05454168  2.45992985  0.89416376 -0.43803902 -1.20970036]\n",
      " [-0.41158324  0.17800951 -0.24800206 -0.1202473   0.95222871]\n",
      " [-1.59779896  0.07470753  0.15603331  0.1732305   1.04942962]\n",
      " [-1.9287921  -0.35907569  1.19155609  1.39006729  1.01351822]\n",
      " [ 0.85162774 -1.08496745  0.36486818  0.51862196 -1.13232166]\n",
      " [ 0.98365331 -0.18965555  0.88401712  1.47997122  0.58386514]\n",
      " [-1.58874469 -1.68128787  0.33307495 -1.31111966  0.19304287]\n",
      " [-1.06560569 -0.30152997 -1.60817162 -0.74400681 -0.34261385]\n",
      " [-1.53918327  1.54746748 -0.9570392  -0.54410744  0.15301986]\n",
      " [-0.30230534 -1.86781826  0.00715166  1.58184267  1.15160245]\n",
      " [-0.51325315 -2.19616239  0.76667767 -0.20109429 -0.16805967]\n",
      " [ 0.75614317 -0.36031672 -1.0156511   0.05601911 -0.66485312]\n",
      " [ 0.63955118 -1.732237   -1.31393251 -0.54529218 -0.44809148]\n",
      " [ 0.65037076 -0.31300919 -1.4380525  -1.49440714 -1.39915551]\n",
      " [-0.82354494  1.33809538 -1.86707015 -0.16777806  0.68585393]\n",
      " [ 0.17886675  0.04558572 -0.17842989  0.46502953 -0.08815061]] \n",
      " [[-2.47495795 -2.03524543  2.35535094]\n",
      " [-2.03138187  1.95184512 -2.65433977]\n",
      " [ 1.71789186 -1.44036417 -0.7598389 ]\n",
      " [ 1.03516756 -1.49730303 -1.16625423]\n",
      " [ 0.14136885 -2.08522758 -1.08746645]]\n"
     ]
    }
   ],
   "source": [
    "# the trained weights are\n",
    "print(w1, \"\\n\", w2)"
   ]
  },
  {
   "cell_type": "code",
   "execution_count": 9,
   "id": "4ae16236",
   "metadata": {},
   "outputs": [
    {
     "name": "stdout",
     "output_type": "stream",
     "text": [
      "Image is of letter A.\n"
     ]
    },
    {
     "data": {
      "image/png": "[encoded data removed]",
      "text/plain": [
       "<Figure size 432x288 with 1 Axes>"
      ]
     },
     "metadata": {
      "needs_background": "light"
     },
     "output_type": "display_data"
    }
   ],
   "source": [
    "#Step9: Making prediction. \n",
    "\"\"\"\n",
    "The predict function will take the following arguments:\n",
    "1) image matrix\n",
    "2) w1 trained weights\n",
    "3) w2 trained weights\n",
    "\"\"\"\n",
    "predict(x[1], w1, w2)\n"
   ]
  },
  {
   "cell_type": "code",
   "execution_count": 10,
   "id": "bfc67c43",
   "metadata": {},
   "outputs": [
    {
     "name": "stdout",
     "output_type": "stream",
     "text": [
      "Image is of letter B.\n"
     ]
    },
    {
     "data": {
      "image/png": "[encoded data removed]",
      "text/plain": [
       "<Figure size 432x288 with 1 Axes>"
      ]
     },
     "metadata": {
      "needs_background": "light"
     },
     "output_type": "display_data"
    }
   ],
   "source": [
    "#Step9: Making prediction. \n",
    "\"\"\"\n",
    "The predict function will take the following arguments:\n",
    "1) image matrix\n",
    "2) w1 trained weights\n",
    "3) w2 trained weights\n",
    "\"\"\"\n",
    "predict(x[0], w1, w2)"
   ]
  },
  {
   "cell_type": "code",
   "execution_count": 11,
   "id": "e522b06d",
   "metadata": {},
   "outputs": [
    {
     "name": "stdout",
     "output_type": "stream",
     "text": [
      "Image is of letter C.\n"
     ]
    },
    {
     "data": {
      "image/png": "[encoded data removed]",
      "text/plain": [
       "<Figure size 432x288 with 1 Axes>"
      ]
     },
     "metadata": {
      "needs_background": "light"
     },
     "output_type": "display_data"
    }
   ],
   "source": [
    "#Step9: Making prediction. \n",
    "\"\"\"\n",
    "The predict function will take the following arguments:\n",
    "1) image matrix\n",
    "2) w1 trained weights\n",
    "3) w2 trained weights\n",
    "\"\"\"\n",
    "predict(x[2], w1, w2)"
   ]
  },
  {
   "cell_type": "code",
   "execution_count": null,
   "id": "af68cfa4",
   "metadata": {},
   "outputs": [],
   "source": []
  }
 ],
 "metadata": {
  "kernelspec": {
   "display_name": "Python 3.10.5 64-bit",
   "language": "python",
   "name": "python3"
  },
  "language_info": {
   "codemirror_mode": {
    "name": "ipython",
    "version": 3
   },
   "file_extension": ".py",
   "mimetype": "text/x-python",
   "name": "python",
   "nbconvert_exporter": "python",
   "pygments_lexer": "ipython3",
   "version": "3.10.5"
  },
  "vscode": {
   "interpreter": {
    "hash": "1c9155b390a856af6d5480c6595dc541f45b3de0f4ac811d8cd4cdadb94bea32"
   }
  }
 },
 "nbformat": 4,
 "nbformat_minor": 5
}
