{
 "cells": [
  {
   "cell_type": "code",
   "execution_count": 1,
   "id": "a84c2707",
   "metadata": {},
   "outputs": [
    {
     "name": "stdout",
     "output_type": "stream",
     "text": [
      "Enter first number: 56\n",
      "Enter second number: 65\n",
      "The sum of 56 and 65 is 121.0\n",
      "The subtraction of 56 and 65 is -9.0\n",
      "The multiplication of 56 and 65 is 3640.0\n",
      "The division of 56 and 65 is 0.8615384615384616\n"
     ]
    }
   ],
   "source": [
    "# Store input numbers:  \n",
    "num1 = input('Enter first number: ')  \n",
    "num2 = input('Enter second number: ')  \n",
    "  \n",
    "# Add two numbers  \n",
    "sum = float(num1) + float(num2)  \n",
    "# Subtract two numbers  \n",
    "min = float(num1) - float(num2)  \n",
    "# Multiply two numbers  \n",
    "mul = float(num1) * float(num2)  \n",
    "#Divide two numbers  \n",
    "div = float(num1) / float(num2)  \n",
    "# Display the sum  \n",
    "print('The sum of {0} and {1} is {2}'.format(num1, num2, sum))  \n",
    "  \n",
    "# Display the subtraction  \n",
    "print('The subtraction of {0} and {1} is {2}'.format(num1, num2, min))  \n",
    "# Display the multiplication  \n",
    "print('The multiplication of {0} and {1} is {2}'.format(num1, num2, mul))  \n",
    "# Display the division  \n",
    "print('The division of {0} and {1} is {2}'.format(num1, num2, div))  "
   ]
  },
  {
   "cell_type": "code",
   "execution_count": 4,
   "id": "ccbecbf7",
   "metadata": {},
   "outputs": [
    {
     "name": "stdout",
     "output_type": "stream",
     "text": [
      "WE ARE THIRD YEAR AIML CLASS\n",
      "<class 'str'>\n",
      "WE ARE IN THIRD YEAR \n",
      "<class 'str'>\n",
      " WE ARE SHOWING STRING VARIABLES\n",
      "<class 'str'>\n"
     ]
    }
   ],
   "source": [
    "str_var = 'WE ARE THIRD YEAR AIML CLASS'  \n",
    "print(str_var)  \n",
    "print(type(str_var))  \n",
    "  \n",
    "str_var1 = \"WE ARE IN THIRD YEAR \"  \n",
    "print(str_var1)  \n",
    "print(type(str_var1))  \n",
    "  \n",
    "str_var3 = \" WE ARE SHOWING STRING VARIABLES\" \n",
    "print(str_var3)  \n",
    "print(type(str_var1))  "
   ]
  },
  {
   "cell_type": "code",
   "execution_count": 5,
   "id": "b96f09c3",
   "metadata": {},
   "outputs": [
    {
     "name": "stdout",
     "output_type": "stream",
     "text": [
      "Input vector:[0 1 1], Weight vector:[-1  1  1]\n",
      "Dot product: 2\n",
      "Activation: 1\n",
      "Activation: 0\n"
     ]
    }
   ],
   "source": [
    "#Step 1: generate a vector of inputs and a vector of weights\n",
    "import numpy as np\n",
    "np.random.seed(seed=0)\n",
    "I = np.random.choice([0,1], 3)# generate random vector I, sampling from {0,1}\n",
    "W = np.random.choice([-1,1], 3) # generate random vector W, sampling from {-1,1} \n",
    "print(f'Input vector:{I}, Weight vector:{W}')\n",
    "#Step 2: compute the dot product between the vector of inputs and weights\n",
    "dot = I @ W\n",
    "print(f'Dot product: {dot}')\n",
    "#Step 3: define the threshold activation function\n",
    "def linear_threshold_gate(dot: int, T: float) -> int:\n",
    "    '''Returns the binary threshold output'''\n",
    "    if dot >= T:\n",
    "        return 1\n",
    "    else:\n",
    "        return 0\n",
    "#Step 4: compute the output based on the threshold value\n",
    "T = 1\n",
    "activation = linear_threshold_gate(dot, T)\n",
    "print(f'Activation: {activation}')\n",
    "#In the previous example, the threshold was set to T=1. Since Sum=2, the neuron fires.\n",
    "#If we increase the threshold for firing to T=3, the neuron will not fire.\n",
    "T = 3\n",
    "activation = linear_threshold_gate(dot, T)\n",
    "print(f'Activation: {activation}')\n"
   ]
  },
  {
   "cell_type": "code",
   "execution_count": 35,
   "id": "f4a4ccde",
   "metadata": {},
   "outputs": [
    {
     "name": "stdout",
     "output_type": "stream",
     "text": [
      "Enter weights\n",
      "0\n",
      "Weight w11=0\n",
      "weight w12=0\n",
      "Weight w21=0\n",
      "weight w22=1\n",
      "weight v1=1\n",
      "weight v2=1\n",
      "Enter Threshold Value\n",
      "theta=1\n"
     ]
    },
    {
     "ename": "IndexError",
     "evalue": "list index out of range",
     "output_type": "error",
     "traceback": [
      "\u001b[1;31m---------------------------------------------------------------------------\u001b[0m",
      "\u001b[1;31mIndexError\u001b[0m                                Traceback (most recent call last)",
      "Input \u001b[1;32mIn [35]\u001b[0m, in \u001b[0;36m<cell line: 43>\u001b[1;34m()\u001b[0m\n\u001b[0;32m     47\u001b[0m zin2 \u001b[38;5;241m=\u001b[39m x1\u001b[38;5;241m*\u001b[39mw21 \u001b[38;5;241m+\u001b[39m x2\u001b[38;5;241m*\u001b[39mw22;\n\u001b[0;32m     49\u001b[0m \u001b[38;5;28;01mfor\u001b[39;00m i \u001b[38;5;129;01min\u001b[39;00m [\u001b[38;5;241m1\u001b[39m, \u001b[38;5;241m2\u001b[39m, \u001b[38;5;241m3\u001b[39m, \u001b[38;5;241m4\u001b[39m]:\n\u001b[1;32m---> 51\u001b[0m     \u001b[38;5;28;01mif\u001b[39;00m \u001b[43mzin1\u001b[49m\u001b[43m[\u001b[49m\u001b[43mi\u001b[49m\u001b[43m]\u001b[49m \u001b[38;5;241m>\u001b[39m\u001b[38;5;241m=\u001b[39m theta:  \n\u001b[0;32m     53\u001b[0m         y1[i] \u001b[38;5;241m=\u001b[39m \u001b[38;5;241m1\u001b[39m\n\u001b[0;32m     55\u001b[0m     \u001b[38;5;28;01melif\u001b[39;00m y1[i] \u001b[38;5;241m==\u001b[39m \u001b[38;5;241m0\u001b[39m:\n",
      "\u001b[1;31mIndexError\u001b[0m: list index out of range"
     ]
    }
   ],
   "source": [
    "#Getting weights and threshold value\n",
    "\n",
    "print('Enter weights')        \n",
    "\n",
    "\n",
    "# take input from user\n",
    "input_a = input()\n",
    " \n",
    "# type cast into integer\n",
    "input_a = int(input_a)\n",
    "\n",
    "\n",
    "w11 = input('Weight w11=');\n",
    "w11 = int(w11)\n",
    "\n",
    "w12 = input('weight w12=');\n",
    "w12 = int(w12)\n",
    "\n",
    "w21 = input('Weight w21=');\n",
    "w21 = int(w21)\n",
    "\n",
    "w22 = input('weight w22=');\n",
    "w22 = int(w22)\n",
    "\n",
    "v1 = input('weight v1=');\n",
    "v1 = int(v1)\n",
    "\n",
    "v2 = input('weight v2=');\n",
    "v2 = int(v2)\n",
    "print('Enter Threshold Value');\n",
    "\n",
    "theta = input('theta=')\n",
    "theta = int(theta)\n",
    "\n",
    "x1=[0,0,1,1];\n",
    "\n",
    "x2=[0,1,0,1];\n",
    "\n",
    "z=[0,1,1,0];\n",
    "\n",
    "con=1;\n",
    "\n",
    "while con ==1:\n",
    "\n",
    "    zin1 = x1*w11 + x2*w21;\n",
    "\n",
    "    zin2 = x1*w21 + x2*w22;\n",
    "\n",
    "    for i in [1, 2, 3, 4]:\n",
    "\n",
    "        if zin1[i] >= theta:  \n",
    "\n",
    "            y1[i] = 1\n",
    "\n",
    "        elif y1[i] == 0:\n",
    "\n",
    "            if zin2[i] >= theta:\n",
    "\n",
    "                y2[i] = 1\n",
    "\n",
    "        elif y2[i] == 0:\n",
    "\n",
    "             yin = y1*v1 + y2*v2\n",
    "\n",
    "    for i in [1, 2, 3, 4]:\n",
    "\n",
    "        if yin[i] >= theta:\n",
    "\n",
    "            y[i] = 1\n",
    "        elif y[i] == 0:\n",
    "\n",
    "                      print('Output of Net')\n",
    "\n",
    "y\n",
    "\n",
    "if y == z:\n",
    "\n",
    "    con=0;\n",
    "\n",
    "else: print('Net is not learning enter another set of weights and Threshold value')\n",
    "\n",
    "w11 = input('Weight w11=');\n",
    "\n",
    "w12 = input('weight w12=');\n",
    "\n",
    "w21 = input('Weight w21=');\n",
    "\n",
    "w22 = input('weight w22=');\n",
    "\n",
    "v1 = input('weight v1=');\n",
    "\n",
    "v2 = input('weight v2=');\n",
    "\n",
    "theta=input('theta=');\n",
    "\n",
    "print('McCulloch-Pitts Net for XOR function')\n",
    "\n",
    "print('Weights of Neuron Z1')\n",
    "\n",
    "w11\n",
    "\n",
    "w21\n",
    "\n",
    "print('weights of Neuron Z2')\n",
    "\n",
    "w12\n",
    "\n",
    "w22\n",
    "\n",
    "print('weights of Neuron Y')\n",
    "\n",
    "v1\n",
    "\n",
    "v2\n",
    "\n",
    "print('Threshold value')\n",
    "\n",
    "theta"
   ]
  },
  {
   "cell_type": "markdown",
   "id": "828ad08a",
   "metadata": {},
   "source": [
    "# "
   ]
  },
  {
   "cell_type": "code",
   "execution_count": null,
   "id": "4f6d5a15",
   "metadata": {},
   "outputs": [],
   "source": []
  }
 ],
 "metadata": {
  "kernelspec": {
   "display_name": "Python 3 (ipykernel)",
   "language": "python",
   "name": "python3"
  },
  "language_info": {
   "codemirror_mode": {
    "name": "ipython",
    "version": 3
   },
   "file_extension": ".py",
   "mimetype": "text/x-python",
   "name": "python",
   "nbconvert_exporter": "python",
   "pygments_lexer": "ipython3",
   "version": "3.9.12"
  }
 },
 "nbformat": 4,
 "nbformat_minor": 5
}
