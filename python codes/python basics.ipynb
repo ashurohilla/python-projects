{
 "cells": [
  {
   "cell_type": "code",
   "execution_count": 1,
   "id": "2a48c2d2",
   "metadata": {},
   "outputs": [
    {
     "name": "stdout",
     "output_type": "stream",
     "text": [
      "[2, 4, 6, 8]\n"
     ]
    }
   ],
   "source": [
    "# map function\n",
    "def addition (n):\n",
    "    return n +n\n",
    "\n",
    "number  = (1,2,3,4)\n",
    "result = map(addition, number)\n",
    "print (list(result))"
   ]
  },
  {
   "cell_type": "code",
   "execution_count": 3,
   "id": "04814905",
   "metadata": {},
   "outputs": [
    {
     "name": "stdout",
     "output_type": "stream",
     "text": [
      "[2, 4, 6, 8]\n"
     ]
    }
   ],
   "source": [
    "numbers = (1,2,3,4)\n",
    "result = map(lambda x: x+x, numbers)\n",
    "print (list(result))"
   ]
  },
  {
   "cell_type": "code",
   "execution_count": 10,
   "id": "8408fb13",
   "metadata": {},
   "outputs": [
    {
     "name": "stdout",
     "output_type": "stream",
     "text": [
      "[5, 8, 10, 11, 8, 26, 39]\n"
     ]
    }
   ],
   "source": [
    "number = [2,3,5,6,6,4,34,3]\n",
    "numers = [3,5,5,5,2,22,5]\n",
    "result = map (lambda x,y : x+y, number, numers)\n",
    "print(list(result))"
   ]
  },
  {
   "cell_type": "code",
   "execution_count": 12,
   "id": "93ce1897",
   "metadata": {},
   "outputs": [
    {
     "name": "stdout",
     "output_type": "stream",
     "text": [
      "[8, 12, 15, 15, 13, 32, 105]\n"
     ]
    }
   ],
   "source": [
    "number = [2,3,5,6,6,4,34,3]\n",
    "numers = [3,5,5,5,2,22,5]\n",
    "numbers =[3,4,5,4,5,6,66,5,5,54,4]\n",
    "result = map(lambda x,y,z :x+y+z,number,numers,numbers)\n",
    "print(list(result))"
   ]
  },
  {
   "cell_type": "code",
   "execution_count": 13,
   "id": "bef009ea",
   "metadata": {},
   "outputs": [],
   "source": [
    "import functools\n"
   ]
  },
  {
   "cell_type": "code",
   "execution_count": 15,
   "id": "0468e80a",
   "metadata": {},
   "outputs": [
    {
     "name": "stdout",
     "output_type": "stream",
     "text": [
      "the sum of the list element is:\n",
      "166\n"
     ]
    }
   ],
   "source": [
    "lis = [2,3,4,66,77,7,7]\n",
    "print(\"the sum of the list element is:\")\n",
    "print(functools.reduce(lambda a,b: a+b,lis))"
   ]
  },
  {
   "cell_type": "code",
   "execution_count": null,
   "id": "89341707",
   "metadata": {},
   "outputs": [],
   "source": []
  }
 ],
 "metadata": {
  "kernelspec": {
   "display_name": "Python 3 (ipykernel)",
   "language": "python",
   "name": "python3"
  },
  "language_info": {
   "codemirror_mode": {
    "name": "ipython",
    "version": 3
   },
   "file_extension": ".py",
   "mimetype": "text/x-python",
   "name": "python",
   "nbconvert_exporter": "python",
   "pygments_lexer": "ipython3",
   "version": "3.9.12"
  }
 },
 "nbformat": 4,
 "nbformat_minor": 5
}
